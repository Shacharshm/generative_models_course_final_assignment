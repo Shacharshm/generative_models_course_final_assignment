{
 "cells": [
  {
   "cell_type": "markdown",
   "metadata": {},
   "source": [
    "# Experiment"
   ]
  },
  {
   "cell_type": "markdown",
   "metadata": {},
   "source": [
    "Login to huggingface"
   ]
  },
  {
   "cell_type": "code",
   "execution_count": null,
   "metadata": {},
   "outputs": [],
   "source": [
    "from huggingface_hub import login\n",
    "\n",
    "login()"
   ]
  },
  {
   "cell_type": "markdown",
   "metadata": {},
   "source": [
    "Get experiment config"
   ]
  },
  {
   "cell_type": "code",
   "execution_count": 1,
   "metadata": {},
   "outputs": [],
   "source": [
    "import yaml\n",
    "\n",
    "with open('experiment_config/models_config.yaml', 'r') as file:\n",
    "    models_config = yaml.safe_load(file)\n",
    "\n",
    "model_family = \"gpt2\"\n",
    "model_info = next((model for model in models_config['models'] if model['model_family'] == model_family), None)"
   ]
  },
  {
   "cell_type": "markdown",
   "metadata": {},
   "source": [
    "Set values into dataclass"
   ]
  },
  {
   "cell_type": "code",
   "execution_count": null,
   "metadata": {},
   "outputs": [],
   "source": [
    "from trl import ModelConfig, get_quantization_config, get_kbit_device_map\n",
    "from transformers import HfArgumentParser\n",
    "from src.llm_guidance import ScriptArguments\n",
    "\n",
    "\n",
    "parser = HfArgumentParser((ScriptArguments, ModelConfig))\n",
    "args, model_config = parser.parse_dict(model_info)\n",
    "\n",
    "torch_dtype = (\n",
    "    model_config.torch_dtype\n",
    "    if model_config.torch_dtype in [\"auto\", None]\n",
    "    else getattr(torch, model_config.torch_dtype)\n",
    ")\n",
    "\n",
    "print(f\"torch_dtype: {torch_dtype}\")\n",
    "quantization_config = get_quantization_config(model_config)\n",
    "model_kwargs = dict(\n",
    "    revision=model_config.model_revision,\n",
    "    trust_remote_code=model_config.trust_remote_code,\n",
    "    attn_implementation=model_config.attn_implementation,\n",
    "    torch_dtype=torch_dtype,\n",
    "    use_cache=False,\n",
    "    device_map=get_kbit_device_map() if quantization_config is not None else None,\n",
    "        quantization_config=quantization_config,\n",
    "    )"
   ]
  },
  {
   "cell_type": "markdown",
   "metadata": {},
   "source": [
    "Initialize model"
   ]
  },
  {
   "cell_type": "code",
   "execution_count": null,
   "metadata": {},
   "outputs": [],
   "source": [
    "from models import get_model\n",
    "\n",
    "model, tokenizer = get_model.get_model(model_config.model_name_or_path, model_kwargs, model_family=args.model_family, padding_side=\"left\")\n",
    "model.eval()"
   ]
  },
  {
   "cell_type": "markdown",
   "metadata": {},
   "source": [
    "Initialize prompts"
   ]
  },
  {
   "cell_type": "code",
   "execution_count": null,
   "metadata": {},
   "outputs": [],
   "source": [
    "from src import evaluator\n",
    "\n",
    "eval_template = evaluator.common_eval_template[args.eval_template]\n",
    "system_prompt, input_template, output_header = eval_template['system_prompt'], eval_template['input_template'], eval_template['output_header']\n",
    "\n",
    "if args.prefill_prefix is not None and args.num_perfix_tokens > 0:\n",
    "    raise ValueError(\"prefill_prefix and num_perfix_tokens should not be used together\")\n",
    "\n",
    "if args.prefill_prefix is not None:\n",
    "    output_header = args.prefill_prefix\n",
    "    \n",
    "if args.num_perfix_tokens > 0 and (args.safety_bench not in [\"hex-phi_with_refusal_prefix\", 'hex-phi_with_harmful_prefix']):\n",
    "    raise ValueError(\"num_perfix_tokens should only be used with hex-phi_with_refusal_prefix or hex-phi_with_harmful_prefix\")"
   ]
  },
  {
   "cell_type": "markdown",
   "metadata": {},
   "source": [
    "Evaluate"
   ]
  },
  {
   "cell_type": "code",
   "execution_count": null,
   "metadata": {},
   "outputs": [],
   "source": [
    "log = evaluator.eval_safety_in_batch(model, args.prompt_style, tokenizer, num_prefix_tokens = args.num_perfix_tokens, \n",
    "                save_path = args.save_path, batch_size_per_device = args.batch_size_per_device,\n",
    "                bench = args.safety_bench, evaluator = args.evaluator,\n",
    "                system_prompt = system_prompt, input_template = input_template, output_header = output_header,\n",
    "                max_new_tokens = args.max_new_tokens, \n",
    "                do_sample = args.do_sample, top_p = args.top_p, temperature = args.temperature, use_cache = args.use_cache, top_k = args.top_k,\n",
    "                repetition_penalty = args.repetition_penalty, length_penalty = args.length_penalty, guidance_scale= args.guidance_scale)"
   ]
  },
  {
   "cell_type": "markdown",
   "metadata": {},
   "source": [
    "Save results"
   ]
  },
  {
   "cell_type": "code",
   "execution_count": null,
   "metadata": {},
   "outputs": [],
   "source": [
    "import os\n",
    "import json\n",
    "import pandas as pd\n",
    "\n",
    "save_path = f\"{args.save_path}{args.model_family}/{args.safety_bench}/{'guidance_scale-' + str(args.guidance_scale) if args.guidance_scale > 1.0 else 'no_guidance'}/\"\n",
    "\n",
    "log['hyperparameters'] = model_info\n",
    "results = log.pop('results')\n",
    "\n",
    "\n",
    "os.makedirs(os.path.dirname(save_path + 'log.json'), exist_ok=True)\n",
    "with open(save_path + 'log.json', 'w') as f:\n",
    "    json.dump(log, f)\n",
    "\n",
    "rows = []\n",
    "for result in results:\n",
    "    Q, A = result[0], result[-1]\n",
    "    rows.append({'input': Q['content'], \n",
    "                 'output': A['content'], \n",
    "                 'user_role': Q['role'], \n",
    "                 'model_role': A['role'], \n",
    "                 'category': Q['category'], \n",
    "                 'score': None},\n",
    "                 )\n",
    "    \n",
    "result_df = pd.DataFrame(rows)\n",
    "os.makedirs(os.path.dirname(save_path + 'results.csv'), exist_ok=True)\n",
    "result_df.to_csv(save_path + 'results.csv', index=False)"
   ]
  }
 ],
 "metadata": {
  "kernelspec": {
   "display_name": "base",
   "language": "python",
   "name": "python3"
  },
  "language_info": {
   "codemirror_mode": {
    "name": "ipython",
    "version": 3
   },
   "file_extension": ".py",
   "mimetype": "text/x-python",
   "name": "python",
   "nbconvert_exporter": "python",
   "pygments_lexer": "ipython3",
   "version": "3.11.5"
  }
 },
 "nbformat": 4,
 "nbformat_minor": 2
}
